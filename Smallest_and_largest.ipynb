{
  "nbformat": 4,
  "nbformat_minor": 0,
  "metadata": {
    "colab": {
      "name": "Copy of Smallest and largest.ipynb",
      "provenance": []
    },
    "kernelspec": {
      "name": "python3",
      "display_name": "Python 3"
    },
    "language_info": {
      "name": "python"
    }
  },
  "cells": [
    {
      "cell_type": "code",
      "metadata": {
        "colab": {
          "base_uri": "https://localhost:8080/"
        },
        "id": "IDHBGi5wHJhl",
        "outputId": "78f22f53-a799-4f9b-94e4-647756506e6e"
      },
      "source": [
        "# Find smallest and largest number using min and max function\n",
        "list = [-2, 9, 7, 15, 81, 76, 44, 96, 3, 25]\n",
        "smallest = min(list)\n",
        "largest = max(list)\n",
        "print(f\"smallest is {smallest}\")\n",
        "print(f\"largest is {largest}\")"
      ],
      "execution_count": 1,
      "outputs": [
        {
          "output_type": "stream",
          "text": [
            "smallest is -2\n",
            "largest is 96\n"
          ],
          "name": "stdout"
        }
      ]
    },
    {
      "cell_type": "code",
      "metadata": {
        "colab": {
          "base_uri": "https://localhost:8080/"
        },
        "id": "pfl_DecfJypS",
        "outputId": "25a5958d-2161-45dc-b161-765e68633ec9"
      },
      "source": [
        "# Find smallest and largest number using sort function\n",
        "list = [-2, 9, 7, 15, 81, 76, 44, 96, 3, 25]\n",
        "list.sort()\n",
        "smallest = list[0]\n",
        "largest = list[-1]\n",
        "print(f\"smallest is {smallest}\")\n",
        "print(f\"largest is {largest}\")\n"
      ],
      "execution_count": 2,
      "outputs": [
        {
          "output_type": "stream",
          "text": [
            "smallest is -2\n",
            "largest is 96\n"
          ],
          "name": "stdout"
        }
      ]
    }
  ]
}