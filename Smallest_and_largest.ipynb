{
  "nbformat": 4,
  "nbformat_minor": 0,
  "metadata": {
    "colab": {
      "name": "Copy of Smallest and largest.ipynb",
      "provenance": []
    },
    "kernelspec": {
      "name": "python3",
      "display_name": "Python 3"
    },
    "language_info": {
      "name": "python"
    }
  },
  "cells": [
    {
      "cell_type": "code",
      "metadata": {
        "colab": {
          "base_uri": "https://localhost:8080/"
        },
        "id": "IDHBGi5wHJhl",
        "outputId": "95c71e6a-0a37-423c-eceb-c87da5ce9a53"
      },
      "source": [
        "# Find smallest and largest number using min and max function\n",
        "list = [9, 7, 15, 81, 76, 44, 96, 3, 25]\n",
        "smallest = min(list)\n",
        "largest = max(list)\n",
        "print(f\"smallest is {smallest}\")\n",
        "print(f\"largest is {largest}\")"
      ],
      "execution_count": null,
      "outputs": [
        {
          "output_type": "stream",
          "text": [
            "smallest is 3\n",
            "largest is 96\n"
          ],
          "name": "stdout"
        }
      ]
    },
    {
      "cell_type": "code",
      "metadata": {
        "colab": {
          "base_uri": "https://localhost:8080/"
        },
        "id": "pfl_DecfJypS",
        "outputId": "7dbbd64b-c130-4416-c2c3-53aee8dca4f0"
      },
      "source": [
        "# Find smallest and largest number using sort function\n",
        "list = [9, 7, 15, 81, 76, 44, 96, 3, 25]\n",
        "list.sort()\n",
        "smallest = list[0]\n",
        "largest = list[-1]\n",
        "print(f\"smallest is {smallest}\")\n",
        "print(f\"largest is {largest}\")\n"
      ],
      "execution_count": null,
      "outputs": [
        {
          "output_type": "stream",
          "text": [
            "smallest is 3\n",
            "largest is 96\n"
          ],
          "name": "stdout"
        }
      ]
    }
  ]
}